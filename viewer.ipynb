{
 "cells": [
  {
   "cell_type": "code",
   "execution_count": 1,
   "metadata": {},
   "outputs": [],
   "source": [
    "import os\n",
    "import io\n",
    "from construct import *\n",
    "import matplotlib.pyplot as plt\n",
    "import matplotlib\n",
    "import matplotlib.cm as cm\n",
    "import numpy as np\n",
    "\n",
    "from IPython.display import HTML\n",
    "from matplotlib import animation, rc"
   ]
  },
  {
   "cell_type": "markdown",
   "metadata": {},
   "source": [
    "Set up the construct definition. "
   ]
  },
  {
   "cell_type": "code",
   "execution_count": 2,
   "metadata": {
    "scrolled": false
   },
   "outputs": [],
   "source": [
    "filename = \"./xwr16xx_processed_stream_2019_05_10T09_33_28_999.dat\"\n",
    "#filename = \"./xwr16xx_processed_stream_2019_05_06T14_46_38_043.dat\"\n",
    "#filename = \"./xwr16xx_processed_stream_2019_05_07T16_24_49_846.dat\"\n",
    "rangeFFTSize = 256\n",
    "dopplerFFTSize = 256\n",
    "antennas = 8\n",
    "\n",
    "from enum import Enum\n",
    "class Message(Enum):\n",
    "    MMWDEMO_OUTPUT_MSG_DETECTED_POINTS = 1\n",
    "    MMWDEMO_OUTPUT_MSG_RANGE_PROFILE = 2 \n",
    "    MMWDEMO_OUTPUT_MSG_NOISE_PROFILE = 3\n",
    "    MMWDEMO_OUTPUT_MSG_AZIMUT_STATIC_HEAT_MAP = 4\n",
    "    MMWDEMO_OUTPUT_MSG_RANGE_DOPPLER_HEAT_MAP = 5\n",
    "    MMWDEMO_OUTPUT_MSG_POINT_CLOUD = 6\n",
    "    MMWDEMO_OUTPUT_MSG_TARGET_LIST = 7\n",
    "    MMWDEMO_OUTPUT_MSG_TARGET_INDEX = 8\n",
    "    MMWDEMO_OUTPUT_MSG_STATS = 9\n",
    "    MMWDEMO_OUTPUT_MSG_MAX = 10\n",
    "    \n",
    "    \n",
    "frame = Aligned(4,\n",
    "    Struct(\n",
    "    #Find sync bytes by looping over untill we find the magic word\n",
    "    \"sync\" / RepeatUntil(lambda x, lst, ctx : lst[-8:] == [0x02, 0x01, 0x04, 0x03, 0x06, 0x05, 0x08, 0x07], Byte),\n",
    "    \"header\" / Struct(\n",
    "        \"version\" / Int32ul,\n",
    "        'platform' / Int32ul, \n",
    "        'timestamp' / Int32ul,\n",
    "        'totalPacketLen' / Int32ul, \n",
    "        'frameNumber' / Int32ul, \n",
    "        'subframeNumber' / Int32ul,\n",
    "        'chirpProcessingMargin' / Int32ul, \n",
    "        'frameProcessingMargin' / Int32ul, \n",
    "        'trackingProcessingTime' / Int32ul,\n",
    "        'uartSendingTime' / Int32ul,\n",
    "        'numTLVs' / Int16ul, \n",
    "        'checksum' / Int16ul,\n",
    "    ),\n",
    "    \"packets\" / Struct(\n",
    "             \"type\" / Int32ul,\n",
    "             \"len\" / Int32ul,\n",
    "             \"data\" / Switch(this.type,\n",
    "                {\n",
    "                Message.MMWDEMO_OUTPUT_MSG_POINT_CLOUD.value: \n",
    "                    \"objects\" / Struct(\n",
    "                        \"range\" / Float32l,\n",
    "                        \"angle\" / Float32l,\n",
    "                        \"doppler\" / Float32l,\n",
    "                        \"snr\" / Float32l,\n",
    "                    )[lambda ctx: int((ctx.len - 8) / 16)],\n",
    "                \n",
    "                Message.MMWDEMO_OUTPUT_MSG_TARGET_LIST.value: \n",
    "                    \"targets\" / Struct(\n",
    "                        \"tid\" / Int32ul,\n",
    "                        \"posx\" / Float32l,\n",
    "                        \"posy\" / Float32l,\n",
    "                        \"velX\" / Float32l,\n",
    "                        \"velY\" / Float32l,\n",
    "                        \"accX\" / Float32l,\n",
    "                        \"accY\"/ Float32l,\n",
    "                        \"ec\" / Float32l[9],\n",
    "                        \"g\" / Float32l,\n",
    "                        \"heatmap\" / Float32l[100]\n",
    "                    )[lambda ctx: int((ctx.len-8) / (117*4))],\n",
    "                 \n",
    "                Message.MMWDEMO_OUTPUT_MSG_TARGET_INDEX.value:\n",
    "                    \"indices\" / Int8ul[this.len - 8],\n",
    "                    \n",
    "                Message.MMWDEMO_OUTPUT_MSG_NOISE_PROFILE.value: \n",
    "                    Array(rangeFFTSize, Int16ul),\n",
    "                    \n",
    "                Message.MMWDEMO_OUTPUT_MSG_AZIMUT_STATIC_HEAT_MAP.value: \n",
    "                    Array(rangeFFTSize * antennas, Struct(\"Img\" / Int16sl, \"Re\" / Int16sl)),\n",
    "                    \n",
    "                Message.MMWDEMO_OUTPUT_MSG_RANGE_DOPPLER_HEAT_MAP.value: \n",
    "                    Array(rangeFFTSize * dopplerFFTSize, Int16ul),\n",
    "                    \n",
    "                Message.MMWDEMO_OUTPUT_MSG_STATS.value: \n",
    "                    Struct(\n",
    "                    \"interFrameProcessingTime\" / Int32ul,\n",
    "                    \"transmitOutputTime\" / Int32ul,\n",
    "                    \"interFrameProcessingMargin\" / Int32ul,\n",
    "                    \"interChirpProcessingMargin\" / Int32ul,\n",
    "                    \"activeFrameCPULoad\" / Int32ul,\n",
    "                    \"interFrameCPULoad\" / Int32ul\n",
    "                ),\n",
    "                }, default=Array(this.len, Byte))\n",
    "         )[this.header.numTLVs] \n",
    "    )\n",
    ")\n"
   ]
  },
  {
   "cell_type": "markdown",
   "metadata": {},
   "source": [
    "Start the MMWave sensor"
   ]
  },
  {
   "cell_type": "code",
   "execution_count": 14,
   "metadata": {},
   "outputs": [
    {
     "data": {
      "image/png": "[encoded data removed]",
      "text/plain": [
       "<matplotlib.figure.Figure at 0x24851d8d898>"
      ]
     },
     "metadata": {},
     "output_type": "display_data"
    },
    {
     "data": {
      "image/png": "[encoded data removed]",
      "text/plain": [
       "<matplotlib.figure.Figure at 0x248520176a0>"
      ]
     },
     "metadata": {},
     "output_type": "display_data"
    },
    {
     "name": "stdout",
     "output_type": "stream",
     "text": [
      "bad packet\n"
     ]
    },
    {
     "name": "stderr",
     "output_type": "stream",
     "text": [
      "Exception in thread Thread-21:\n",
      "Traceback (most recent call last):\n",
      "  File \"c:\\program files\\python36\\lib\\threading.py\", line 916, in _bootstrap_inner\n",
      "    self.run()\n",
      "  File \"c:\\program files\\python36\\lib\\threading.py\", line 864, in run\n",
      "    self._target(*self._args, **self._kwargs)\n",
      "  File \"<ipython-input-14-6cd09f60adf8>\", line 41, in captureThreadMain\n",
      "    byte = dataSerial.read(1)\n",
      "  File \"c:\\program files\\python36\\lib\\site-packages\\serial\\serialwin32.py\", line 273, in read\n",
      "    raise SerialException(\"ClearCommError failed ({!r})\".format(ctypes.WinError()))\n",
      "serial.serialutil.SerialException: ClearCommError failed (PermissionError(13, 'The device does not recognize the command.', None, 22))\n",
      "\n",
      "Exception in thread Thread-22:\n",
      "Traceback (most recent call last):\n",
      "  File \"c:\\program files\\python36\\lib\\threading.py\", line 916, in _bootstrap_inner\n",
      "    self.run()\n",
      "  File \"c:\\program files\\python36\\lib\\threading.py\", line 864, in run\n",
      "    self._target(*self._args, **self._kwargs)\n",
      "  File \"<ipython-input-14-6cd09f60adf8>\", line 53, in parseThreadMain\n",
      "    rawData = inputqueue.get(True, 1000)\n",
      "  File \"c:\\program files\\python36\\lib\\queue.py\", line 172, in get\n",
      "    raise Empty\n",
      "queue.Empty\n",
      "\n"
     ]
    }
   ],
   "source": [
    "import serial\n",
    "import time\n",
    "import datetime\n",
    "import queue\n",
    "import threading\n",
    "from IPython.display import clear_output\n",
    "\n",
    "def startSensor():\n",
    "    with serial.Serial(\"COM10\",115200, parity=serial.PARITY_NONE) as controlSerial:\n",
    "        with open(\"customchirp.cfg\", 'r') as configfile:\n",
    "            for line in configfile:\n",
    "                #print(\">> \" + line)\n",
    "                controlSerial.write(line.encode('ascii'))\n",
    "                #print(\"<< \" + controlSerial.readline().decode('ascii')) #echo\n",
    "                print(\"<< \" + controlSerial.readline().decode('ascii')) #\"done\"\n",
    "                controlSerial.read(11) #prompt\n",
    "                time.sleep(0.01)\n",
    "            print(\"sensor started\")\n",
    "\n",
    "            \n",
    "def matchArrays(a, b):\n",
    "    if len(a) != len(b):\n",
    "        return False\n",
    "    \n",
    "    for i in range(0, len(a)):\n",
    "        if a[i] != b[i]:\n",
    "            return False\n",
    "    return True \n",
    "\n",
    "def storeThreadMain(inputqueue,stopEvent):\n",
    "    with open(\"output.bin\", \"wb\") as outputfile:\n",
    "        while( not stopEvent.is_set()):\n",
    "            packet = inputqueue.get(True, 1000)\n",
    "            outputfile.write(packet)\n",
    "\n",
    "def captureThreadMain(onPacket):\n",
    "    print(\"Start listening on COM11\")\n",
    "    with serial.Serial(\"COM11\", 921600) as dataSerial:\n",
    "        buffer = []\n",
    "        while(not stopEvent.is_set()):\n",
    "            byte = dataSerial.read(1)\n",
    "            #print(byte)\n",
    "            buffer += byte\n",
    "            if matchArrays([0x02, 0x01, 0x04, 0x03, 0x06, 0x05, 0x08, 0x07], buffer[-8:]):\n",
    "                try:\n",
    "                    onPacket(bytes(buffer))\n",
    "                except StreamError:\n",
    "                    print(\"streamerror, streamsize: {}\".format(buffer))\n",
    "                buffer = buffer[-8:]\n",
    "                    \n",
    "def parseThreadMain(inputqueue, stopEvent):\n",
    "    while not stopEvent.is_set():\n",
    "        rawData = inputqueue.get(True, 1000)\n",
    "        if(rawData == None):\n",
    "            return\n",
    "        try:\n",
    "            data = frame.parse(rawData)\n",
    "            for packet in data['packets']:\n",
    "                if packet['type'] == Message.MMWDEMO_OUTPUT_MSG_TARGET_LIST.value :\n",
    "                    #print(packet['data'][0]['heatmap'])\n",
    "                    targets = {}\n",
    "                    for target in packet['data']:\n",
    "                        target['timestamp'] = datetime.datetime.now()\n",
    "                        targets[target['tid']] = target\n",
    "\n",
    "                    #print(\"location x:{} y:{}\".format(target['posx'], target['posy']))\n",
    "                    if(len(targets) > 1):\n",
    "                        clear_output()\n",
    "                        images = []\n",
    "                        fig, ax = plt.subplots(1, len(targets))\n",
    "                        fig.suptitle('Targets')\n",
    "                        i = 0\n",
    "                        normalizer = matplotlib.colors.Normalize()\n",
    "                        for target in targets:\n",
    "                            a = np.reshape(targets[target]['heatmap'],(10,10))\n",
    "\n",
    "                            images.append(ax[i].imshow(a, cmap='hot', norm= normalizer, interpolation='nearest'))\n",
    "                            #ax[i].setTitle(\"x:{} y:{}\".format(targets[target]['posx'], targets[target]['posy']))\n",
    "                            i += 1\n",
    "                        fig.colorbar(images[0])\n",
    "                        plt.show()\n",
    "                            #plt.imshow(a, cmap='hot', norm= matplotlib.colors.Normalize(), interpolation='nearest')\n",
    "                            #plt.show()\n",
    "                            #print(a)\n",
    "                            \n",
    "                        plt.scatter([targets[x]['posx'] for x in targets], [targets[x]['posy'] for x in targets])\n",
    "        except StreamError:\n",
    "            print(\"bad packet\")\n",
    "            \n",
    "#Set up reading and parsing threads\n",
    "writeQueue = queue.Queue()\n",
    "parseQueue = queue.Queue()\n",
    "stopEvent = threading.Event()\n",
    "\n",
    "def storeAndParse(data):\n",
    "    writeQueue.put(data)\n",
    "    parseQueue.put(data)\n",
    "    \n",
    "captureThread =threading.Thread(target = captureThreadMain, args=[storeAndParse])\n",
    "#writeThread = threading.Thread(target = storeThreadMain, args=[writeQueue, stopEvent])\n",
    "parseThread = threading.Thread(target = parseThreadMain, args=[parseQueue, stopEvent])\n",
    "\n",
    "#Send UART commands to start the sensor\n",
    "startSensor()\n",
    "\n",
    "#Start processing threads\n",
    "captureThread.start()\n",
    "#writeThread.start()\n",
    "parseThread.start()\n",
    "\n",
    "\n",
    "    "
   ]
  },
  {
   "cell_type": "code",
   "execution_count": 12,
   "metadata": {},
   "outputs": [
    {
     "name": "stderr",
     "output_type": "stream",
     "text": [
      "Exception in thread Thread-18:\n",
      "Traceback (most recent call last):\n",
      "  File \"c:\\program files\\python36\\lib\\threading.py\", line 916, in _bootstrap_inner\n",
      "    self.run()\n",
      "  File \"c:\\program files\\python36\\lib\\threading.py\", line 864, in run\n",
      "    self._target(*self._args, **self._kwargs)\n",
      "  File \"<ipython-input-11-4a4d70269713>\", line 53, in parseThreadMain\n",
      "    rawData = inputqueue.get(True, 1000)\n",
      "  File \"c:\\program files\\python36\\lib\\queue.py\", line 172, in get\n",
      "    raise Empty\n",
      "queue.Empty\n",
      "\n"
     ]
    }
   ],
   "source": [
    "#Stop processing\n",
    "stopEvent.set()\n",
    "#wait for it to end\n",
    "captureThread.join()\n",
    "#writeThread.join()\n",
    "parseThread.join() "
   ]
  },
  {
   "cell_type": "code",
   "execution_count": 75,
   "metadata": {
    "scrolled": false
   },
   "outputs": [],
   "source": [
    "import datetime\n",
    "\n",
    "maximages = 5\n",
    "targets = {}\n",
    "\n",
    "def handleData(data):\n",
    "    for packet in data['packets']:\n",
    "        if packet['type'] == Message.MMWDEMO_OUTPUT_MSG_TARGET_LIST.value :\n",
    "            #print(packet['data'][0]['heatmap'])\n",
    "            targets = {}\n",
    "            for target in packet['data']:\n",
    "                target['timestamp'] = datetime.datetime.now()\n",
    "                targets[target['tid']] = target\n",
    "                \n",
    "            #print(\"location x:{} y:{}\".format(target['posx'], target['posy']))\n",
    "            if(len(targets) > 1):\n",
    "                images = []\n",
    "                fig, ax = plt.subplots(1, len(targets))\n",
    "                fig.suptitle('Targets')\n",
    "                i = 0\n",
    "                normalizer = matplotlib.colors.Normalize()\n",
    "                for target in targets:\n",
    "                    a = np.reshape(targets[target]['heatmap'],(10,10))\n",
    "                    \n",
    "                    images.append(ax[i].imshow(a, cmap='hot', norm= normalizer, interpolation='nearest'))\n",
    "                    #ax[i].setTitle(\"x:{} y:{}\".format(targets[target]['posx'], targets[target]['posy']))\n",
    "                    i += 1\n",
    "                fig.colorbar(images[0])\n",
    "                plt.show()\n",
    "                    #plt.imshow(a, cmap='hot', norm= matplotlib.colors.Normalize(), interpolation='nearest')\n",
    "                    #plt.show()\n",
    "                    #print(a)"
   ]
  },
  {
   "cell_type": "code",
   "execution_count": 75,
   "metadata": {
    "scrolled": false
   },
   "outputs": [
    {
     "name": "stdout",
     "output_type": "stream",
     "text": [
      "sensor started\n"
     ]
    },
    {
     "ename": "SerialException",
     "evalue": "ClearCommError failed (PermissionError(13, 'The device does not recognize the command.', None, 22))",
     "output_type": "error",
     "traceback": [
      "\u001b[1;31m---------------------------------------------------------------------------\u001b[0m",
      "\u001b[1;31mSerialException\u001b[0m                           Traceback (most recent call last)",
      "\u001b[1;32m<ipython-input-75-1c09b6da6068>\u001b[0m in \u001b[0;36m<module>\u001b[1;34m()\u001b[0m\n\u001b[0;32m     47\u001b[0m         \u001b[0mbuffer\u001b[0m \u001b[1;33m=\u001b[0m \u001b[1;33m[\u001b[0m\u001b[1;33m]\u001b[0m\u001b[1;33m\u001b[0m\u001b[0m\n\u001b[0;32m     48\u001b[0m         \u001b[1;32mwhile\u001b[0m\u001b[1;33m(\u001b[0m\u001b[1;32mTrue\u001b[0m\u001b[1;33m)\u001b[0m\u001b[1;33m:\u001b[0m\u001b[1;33m\u001b[0m\u001b[0m\n\u001b[1;32m---> 49\u001b[1;33m             \u001b[0mbuffer\u001b[0m \u001b[1;33m+=\u001b[0m \u001b[0mdataSerial\u001b[0m\u001b[1;33m.\u001b[0m\u001b[0mread\u001b[0m\u001b[1;33m(\u001b[0m\u001b[1;36m1\u001b[0m\u001b[1;33m)\u001b[0m\u001b[1;33m\u001b[0m\u001b[0m\n\u001b[0m\u001b[0;32m     50\u001b[0m             \u001b[0moutputfile\u001b[0m\u001b[1;33m.\u001b[0m\u001b[0mwrite\u001b[0m\u001b[1;33m(\u001b[0m\u001b[0mbytes\u001b[0m\u001b[1;33m(\u001b[0m\u001b[0mbuffer\u001b[0m\u001b[1;33m[\u001b[0m\u001b[1;33m-\u001b[0m\u001b[1;36m1\u001b[0m\u001b[1;33m:\u001b[0m\u001b[1;33m]\u001b[0m\u001b[1;33m)\u001b[0m\u001b[1;33m)\u001b[0m\u001b[1;33m\u001b[0m\u001b[0m\n\u001b[0;32m     51\u001b[0m             \u001b[1;32mif\u001b[0m \u001b[0mmatchArrays\u001b[0m\u001b[1;33m(\u001b[0m\u001b[1;33m[\u001b[0m\u001b[1;36m0x02\u001b[0m\u001b[1;33m,\u001b[0m \u001b[1;36m0x01\u001b[0m\u001b[1;33m,\u001b[0m \u001b[1;36m0x04\u001b[0m\u001b[1;33m,\u001b[0m \u001b[1;36m0x03\u001b[0m\u001b[1;33m,\u001b[0m \u001b[1;36m0x06\u001b[0m\u001b[1;33m,\u001b[0m \u001b[1;36m0x05\u001b[0m\u001b[1;33m,\u001b[0m \u001b[1;36m0x08\u001b[0m\u001b[1;33m,\u001b[0m \u001b[1;36m0x07\u001b[0m\u001b[1;33m]\u001b[0m\u001b[1;33m,\u001b[0m \u001b[0mbuffer\u001b[0m\u001b[1;33m[\u001b[0m\u001b[1;33m-\u001b[0m\u001b[1;36m8\u001b[0m\u001b[1;33m:\u001b[0m\u001b[1;33m]\u001b[0m\u001b[1;33m)\u001b[0m\u001b[1;33m:\u001b[0m\u001b[1;33m\u001b[0m\u001b[0m\n",
      "\u001b[1;32mc:\\program files\\python36\\lib\\site-packages\\serial\\serialwin32.py\u001b[0m in \u001b[0;36mread\u001b[1;34m(self, size)\u001b[0m\n\u001b[0;32m    271\u001b[0m             \u001b[0mcomstat\u001b[0m \u001b[1;33m=\u001b[0m \u001b[0mwin32\u001b[0m\u001b[1;33m.\u001b[0m\u001b[0mCOMSTAT\u001b[0m\u001b[1;33m(\u001b[0m\u001b[1;33m)\u001b[0m\u001b[1;33m\u001b[0m\u001b[0m\n\u001b[0;32m    272\u001b[0m             \u001b[1;32mif\u001b[0m \u001b[1;32mnot\u001b[0m \u001b[0mwin32\u001b[0m\u001b[1;33m.\u001b[0m\u001b[0mClearCommError\u001b[0m\u001b[1;33m(\u001b[0m\u001b[0mself\u001b[0m\u001b[1;33m.\u001b[0m\u001b[0m_port_handle\u001b[0m\u001b[1;33m,\u001b[0m \u001b[0mctypes\u001b[0m\u001b[1;33m.\u001b[0m\u001b[0mbyref\u001b[0m\u001b[1;33m(\u001b[0m\u001b[0mflags\u001b[0m\u001b[1;33m)\u001b[0m\u001b[1;33m,\u001b[0m \u001b[0mctypes\u001b[0m\u001b[1;33m.\u001b[0m\u001b[0mbyref\u001b[0m\u001b[1;33m(\u001b[0m\u001b[0mcomstat\u001b[0m\u001b[1;33m)\u001b[0m\u001b[1;33m)\u001b[0m\u001b[1;33m:\u001b[0m\u001b[1;33m\u001b[0m\u001b[0m\n\u001b[1;32m--> 273\u001b[1;33m                 \u001b[1;32mraise\u001b[0m \u001b[0mSerialException\u001b[0m\u001b[1;33m(\u001b[0m\u001b[1;34m\"ClearCommError failed ({!r})\"\u001b[0m\u001b[1;33m.\u001b[0m\u001b[0mformat\u001b[0m\u001b[1;33m(\u001b[0m\u001b[0mctypes\u001b[0m\u001b[1;33m.\u001b[0m\u001b[0mWinError\u001b[0m\u001b[1;33m(\u001b[0m\u001b[1;33m)\u001b[0m\u001b[1;33m)\u001b[0m\u001b[1;33m)\u001b[0m\u001b[1;33m\u001b[0m\u001b[0m\n\u001b[0m\u001b[0;32m    274\u001b[0m             \u001b[0mn\u001b[0m \u001b[1;33m=\u001b[0m \u001b[0mmin\u001b[0m\u001b[1;33m(\u001b[0m\u001b[0mcomstat\u001b[0m\u001b[1;33m.\u001b[0m\u001b[0mcbInQue\u001b[0m\u001b[1;33m,\u001b[0m \u001b[0msize\u001b[0m\u001b[1;33m)\u001b[0m \u001b[1;32mif\u001b[0m \u001b[0mself\u001b[0m\u001b[1;33m.\u001b[0m\u001b[0mtimeout\u001b[0m \u001b[1;33m==\u001b[0m \u001b[1;36m0\u001b[0m \u001b[1;32melse\u001b[0m \u001b[0msize\u001b[0m\u001b[1;33m\u001b[0m\u001b[0m\n\u001b[0;32m    275\u001b[0m             \u001b[1;32mif\u001b[0m \u001b[0mn\u001b[0m \u001b[1;33m>\u001b[0m \u001b[1;36m0\u001b[0m\u001b[1;33m:\u001b[0m\u001b[1;33m\u001b[0m\u001b[0m\n",
      "\u001b[1;31mSerialException\u001b[0m: ClearCommError failed (PermissionError(13, 'The device does not recognize the command.', None, 22))"
     ]
    }
   ],
   "source": [
    "# startSensor()\n",
    "\n",
    "# with open(\"output.bin\", \"wb\") as outputfile:\n",
    "#     with serial.Serial(\"COM11\", 921600) as dataSerial:\n",
    "#         buffer = []\n",
    "#         while(True):\n",
    "#             buffer += dataSerial.read(1)\n",
    "#             outputfile.write(bytes(buffer[-1:]))\n",
    "#             if matchArrays([0x02, 0x01, 0x04, 0x03, 0x06, 0x05, 0x08, 0x07], buffer[-8:]):\n",
    "#                 try:\n",
    "#                     data = frame.parse(bytes(buffer))\n",
    "#                     handleData(data)\n",
    "#                 except StreamError:\n",
    "#                     print(\"streamerror, streamsize: {}\".format(buffer))\n",
    "#                 buffer = buffer[-8:]\n",
    "            \n",
    "#     parser = Rebuffered(GreedyRange(frame * handleFrame),1048576)\n",
    "#     parser.compile()\n",
    "#     data = parser.parse_stream(dataSerial)\n",
    "    \n",
    "    "
   ]
  },
  {
   "cell_type": "code",
   "execution_count": 11,
   "metadata": {},
   "outputs": [
    {
     "ename": "RuntimeError",
     "evalue": "No mappable was found to use for colorbar creation. First define a mappable such as an image (with imshow) or a contour set (with contourf).",
     "output_type": "error",
     "traceback": [
      "\u001b[1;31m---------------------------------------------------------------------------\u001b[0m",
      "\u001b[1;31mRuntimeError\u001b[0m                              Traceback (most recent call last)",
      "\u001b[1;32m<ipython-input-11-4fc321d31c95>\u001b[0m in \u001b[0;36m<module>\u001b[1;34m()\u001b[0m\n\u001b[1;32m----> 1\u001b[1;33m \u001b[0mplt\u001b[0m\u001b[1;33m.\u001b[0m\u001b[0mcolorbar\u001b[0m\u001b[1;33m(\u001b[0m\u001b[1;33m)\u001b[0m\u001b[1;33m\u001b[0m\u001b[0m\n\u001b[0m\u001b[0;32m      2\u001b[0m \u001b[0mplt\u001b[0m\u001b[1;33m.\u001b[0m\u001b[0mshow\u001b[0m\u001b[1;33m(\u001b[0m\u001b[1;33m)\u001b[0m\u001b[1;33m\u001b[0m\u001b[0m\n",
      "\u001b[1;32mc:\\program files\\python36\\lib\\site-packages\\matplotlib\\pyplot.py\u001b[0m in \u001b[0;36mcolorbar\u001b[1;34m(mappable, cax, ax, **kw)\u001b[0m\n\u001b[0;32m   2192\u001b[0m         \u001b[0mmappable\u001b[0m \u001b[1;33m=\u001b[0m \u001b[0mgci\u001b[0m\u001b[1;33m(\u001b[0m\u001b[1;33m)\u001b[0m\u001b[1;33m\u001b[0m\u001b[0m\n\u001b[0;32m   2193\u001b[0m         \u001b[1;32mif\u001b[0m \u001b[0mmappable\u001b[0m \u001b[1;32mis\u001b[0m \u001b[1;32mNone\u001b[0m\u001b[1;33m:\u001b[0m\u001b[1;33m\u001b[0m\u001b[0m\n\u001b[1;32m-> 2194\u001b[1;33m             raise RuntimeError('No mappable was found to use for colorbar '\n\u001b[0m\u001b[0;32m   2195\u001b[0m                                \u001b[1;34m'creation. First define a mappable such as '\u001b[0m\u001b[1;33m\u001b[0m\u001b[0m\n\u001b[0;32m   2196\u001b[0m                                \u001b[1;34m'an image (with imshow) or a contour set ('\u001b[0m\u001b[1;33m\u001b[0m\u001b[0m\n",
      "\u001b[1;31mRuntimeError\u001b[0m: No mappable was found to use for colorbar creation. First define a mappable such as an image (with imshow) or a contour set (with contourf)."
     ]
    },
    {
     "data": {
      "text/plain": [
       "<matplotlib.figure.Figure at 0x293bd951978>"
      ]
     },
     "metadata": {},
     "output_type": "display_data"
    }
   ],
   "source": []
  },
  {
   "cell_type": "code",
   "execution_count": null,
   "metadata": {},
   "outputs": [],
   "source": [
    "\n",
    "detectedobjs = []\n",
    "rangeplot = []\n",
    "\n",
    "\n",
    "def handleFrame(obj, ctx):\n",
    "#    print(obj.packets[0].data)\n",
    "    detectedobjs.append(obj.packets[0].data)\n",
    "    rangeplot.append(obj.packets[1].data)\n",
    "         \n",
    "frame.compile()        \n",
    "\n",
    "with open(filename, 'rb') as file:\n",
    "\n",
    "    \n",
    "    #print(file.read(100000).split(None))\n",
    "#     parser = GreedyRange(frame * handleFrame)\n",
    "#     parser.compile()\n",
    "#     data = parser.parse_stream(file)\n",
    "    "
   ]
  },
  {
   "cell_type": "markdown",
   "metadata": {},
   "source": [
    "Next we plot some of the data"
   ]
  },
  {
   "cell_type": "code",
   "execution_count": null,
   "metadata": {},
   "outputs": [],
   "source": [
    "# detectedobjs\n",
    "\n",
    "norm = matplotlib.colors.Normalize(vmin=-10, vmax=10, clip=True)\n",
    "mapper = cm.ScalarMappable(norm=norm, cmap=cm.coolwarm)\n",
    "\n",
    "fig, ax = plt.subplots()\n",
    "scat = ax.scatter([],[],c = mapper.to_rgba([x.dopplerIdx for x in detectedobjs[0].objects]))\n",
    "ax.axis([-5000,5000,0,7000])\n",
    "\n",
    "def animate(i):\n",
    "    frame = detectedobjs[i]\n",
    "    scat.set_offsets([[x.x,x.y] for x in frame.objects])\n",
    "    scat.set_sizes([x.peakVal for x in frame.objects ])\n",
    "    scat.set_color(mapper.to_rgba([x.dopplerIdx for x in frame.objects]))\n",
    "    return scat\n",
    "\n",
    "anim = animation.FuncAnimation(fig, animate, frames=range(len(detectedobjs)))\n",
    "HTML(anim.to_jshtml())\n",
    "# for i in range(len(detectedobjs)):\n",
    "#     ax.scatter([x.x for x in frame.objects], [x.y for x in frame.objects],c = [x.dopplerIdx for x in frame.objects], s = [x.peakVal for x in frame.objects])\n",
    "#     plt.pause(0.5)\n",
    "#     plt.show()\n"
   ]
  },
  {
   "cell_type": "code",
   "execution_count": null,
   "metadata": {},
   "outputs": [],
   "source": []
  }
 ],
 "metadata": {
  "kernelspec": {
   "display_name": "Python 3",
   "language": "python",
   "name": "python3"
  },
  "language_info": {
   "codemirror_mode": {
    "name": "ipython",
    "version": 3
   },
   "file_extension": ".py",
   "mimetype": "text/x-python",
   "name": "python",
   "nbconvert_exporter": "python",
   "pygments_lexer": "ipython3",
   "version": "3.6.4"
  }
 },
 "nbformat": 4,
 "nbformat_minor": 2
}
